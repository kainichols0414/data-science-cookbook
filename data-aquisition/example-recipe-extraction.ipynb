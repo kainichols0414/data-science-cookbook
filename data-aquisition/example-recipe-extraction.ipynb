{
 "cells": [
  {
   "cell_type": "code",
   "execution_count": 1,
   "metadata": {},
   "outputs": [],
   "source": [
    "import numpy as np\n",
    "import pandas as pd\n",
    "\n",
    "from pandas import Series, DataFrame\n",
    "import urllib.request\n",
    "from bs4 import BeautifulSoup\n",
    "\n",
    "import time\n",
    "import os\n",
    "\n",
    "webpage = \"https://www.foodnetwork.com/recipes/ina-garten/16-bean-pasta-e-fagioli-1-3753755\"\n",
    "\n",
    "#This returns HTTPResponse object need to read and  \n",
    "#decode to the see the contents.\n",
    "html_bytes = urllib.request.urlopen(webpage)\n",
    "\n",
    "#To decode the bytes to a string this is the HTML of the webpage\n",
    "#html_string = html_bytes.read().decode(\"utf-8\")\n",
    "\n",
    "#This is the soup object that will parse th HTML page\n",
    "soup = BeautifulSoup(html_bytes,\"html5lib\")"
   ]
  },
  {
   "cell_type": "code",
   "execution_count": 2,
   "metadata": {},
   "outputs": [
    {
     "name": "stdout",
     "output_type": "stream",
     "text": [
      "<title>\"16 Bean\" Pasta e Fagioli Recipe | Ina Garten | Food Network</title>\n"
     ]
    },
    {
     "data": {
      "text/plain": [
       "'\"16 Bean\" Pasta e Fagioli Recipe'"
      ]
     },
     "execution_count": 2,
     "metadata": {},
     "output_type": "execute_result"
    }
   ],
   "source": [
    "#Recipe Title\n",
    "print(soup.title)\n",
    "title=soup.title.string[:soup.title.string.find('|')].rstrip()\n",
    "title\n"
   ]
  },
  {
   "cell_type": "code",
   "execution_count": 11,
   "metadata": {
    "scrolled": true
   },
   "outputs": [
    {
     "name": "stdout",
     "output_type": "stream",
     "text": [
      "1 (1-pound) bag 16 Bean Soup Mix\",\n",
      "    \"2 tablespoons good olive oil, plus extra for serving\",\n",
      "    \"6 ounces pancetta, 1/4-inch-diced\",\n",
      "    \"1 large onion, chopped\",\n",
      "    \"1 tablespoon minced garlic (3 cloves)\",\n",
      "    \"1/2 teaspoon crushed red pepper flakes\",\n",
      "    \"1 (28-ounce) can crushed tomatoes\",\n",
      "    \"1 cup dry red wine\",\n",
      "    \"4 to 6 cups good chicken stock, preferably homemade\",\n",
      "    \"Kosher salt and freshly ground black pepper\",\n",
      "    \"1 cup miniature pasta, such as ditalini or tubettini\",\n",
      "    \"1/2 cup freshly grated Italian Parmesan cheese, plus extra for serving\",\n",
      "    \"1 tablespoon good red wine vinegar\",\n",
      "    \"Julienned fresh basil leaves, for serving\"\n",
      "  \n",
      "['1 (1-pound) bag 16 Bean Soup Mix\"', '\\n    \"2 tablespoons good olive oil', ' plus extra for serving\"', '\\n    \"6 ounces pancetta', ' 1/4-inch-diced\"', '\\n    \"1 large onion', ' chopped\"', '\\n    \"1 tablespoon minced garlic (3 cloves)\"', '\\n    \"1/2 teaspoon crushed red pepper flakes\"', '\\n    \"1 (28-ounce) can crushed tomatoes\"', '\\n    \"1 cup dry red wine\"', '\\n    \"4 to 6 cups good chicken stock', ' preferably homemade\"', '\\n    \"Kosher salt and freshly ground black pepper\"', '\\n    \"1 cup miniature pasta', ' such as ditalini or tubettini\"', '\\n    \"1/2 cup freshly grated Italian Parmesan cheese', ' plus extra for serving\"', '\\n    \"1 tablespoon good red wine vinegar\"', '\\n    \"Julienned fresh basil leaves', ' for serving\"\\n  ']\n"
     ]
    },
    {
     "data": {
      "text/plain": [
       "['1 (1-pound) bag 16 Bean Soup Mix',\n",
       " '2 tablespoons good olive oil, plus extra for serving',\n",
       " '6 ounces pancetta, 1/4-inch-diced',\n",
       " '1 large onion, chopped',\n",
       " '1 tablespoon minced garlic (3 cloves)',\n",
       " '1/2 teaspoon crushed red pepper flakes',\n",
       " '1 (28-ounce) can crushed tomatoes',\n",
       " '1 cup dry red wine',\n",
       " '4 to 6 cups good chicken stock, preferably homemade',\n",
       " 'Kosher salt and freshly ground black pepper',\n",
       " '1 cup miniature pasta, such as ditalini or tubettini',\n",
       " '1/2 cup freshly grated Italian Parmesan cheese, plus extra for serving',\n",
       " '1 tablespoon good red wine vinegar',\n",
       " 'Julienned fresh basil leaves, for serving']"
      ]
     },
     "execution_count": 11,
     "metadata": {},
     "output_type": "execute_result"
    }
   ],
   "source": [
    "#extract ingredient list\n",
    "\n",
    "start=soup.get_text().find('\"recipeIngredient\": [')\n",
    "end=start+soup.get_text()[soup.get_text().find('\"recipeIngredient\": ['):].find(']')\n",
    "s=soup.get_text()[start+27:end]\n",
    "print(s)\n",
    "print(s.split(','))\n",
    "ingredient=[i for i in s.split('\",\\n    \"')]\n",
    "ingredient[-1]=ingredient[-1][:-4]\n",
    "ingredient"
   ]
  },
  {
   "cell_type": "code",
   "execution_count": 12,
   "metadata": {},
   "outputs": [
    {
     "data": {
      "text/plain": [
       "['    \"The day before you plan to make the soup, place the bean mix in a large bowl, add cold water to cover by 2 inches, and refrigerate overnight. The next day, drain the beans, rinse under cold running water, and drain again. Place the beans in a large pot with 8 cups of cold water. Bring to a boil, lower the heat, and simmer for 1 hour. Stir occasionally and skim off any foam that rises to the top. The beans should be very tender and the skin will peel away when you blow on a bean.\",',\n",
       " '    \"Meanwhile, heat the oil in a medium (10-inch) stockpot or Dutch oven over medium heat. Add the pancetta and onion and saute over medium to medium-high heat for 12 to 18 minutes, until browned. Add the garlic and red pepper flakes and saute for one minute. Add the tomatoes, wine, 4 cups of the chicken stock, 1 tablespoon salt, and 1 teaspoon black pepper and turn off the heat.\",',\n",
       " '    \"Drain the beans and add two-thirds of them to the soup. Pass the remaining beans through a food mill, discarding the skins. Stir the bean puree and the pasta into the soup, bring to a boil, lower the heat, and simmer for 20 to 30 minutes, stirring occasionally, until the pasta is tender. Add up to 2 more cups chicken stock if the soup is too thick. Stir in the Parmesan and the vinegar. Ladle the soup into large shallow bowls and add a swirl of olive oil, a sprinkle of Parmesan, and some basil. Serve hot with extra Parmesan on the side.\"']"
      ]
     },
     "execution_count": 12,
     "metadata": {},
     "output_type": "execute_result"
    }
   ],
   "source": [
    "#extract directions \n",
    "\n",
    "start=soup.get_text().find('\"recipeInstructions\": [')\n",
    "end=start+soup.get_text()[soup.get_text().find('\"recipeInstructions\": ['):].find(']')\n",
    "s=soup.get_text()[start:end]\n",
    "directions=[i.rstrip() for i in s[len('\"recipeInstructions\": '):].split('\\n')][1:-1]\n",
    "directions"
   ]
  },
  {
   "cell_type": "code",
   "execution_count": 13,
   "metadata": {},
   "outputs": [
    {
     "name": "stdout",
     "output_type": "stream",
     "text": [
      "10685\n",
      "\"aggregateRating\": {\n",
      "    \"@type\": \"AggregateRating\",\n",
      "    \"ratingValue\": 5,\n",
      "    \"reviewCount\": 3\n",
      "    \n",
      "review count:  3\n",
      "rating:  5\n"
     ]
    }
   ],
   "source": [
    "# extract rating information\n",
    "\n",
    "start=soup.get_text().find('\"aggregateRating\": {')\n",
    "print(start)\n",
    "end=start+soup.get_text()[soup.get_text().find('\"aggregateRating\": {'):].find('}')\n",
    "s=soup.get_text()[start:end]\n",
    "print(s)\n",
    "reviewCount=int(s.split(',')[2].rstrip()[20:])\n",
    "print('review count: ',reviewCount)\n",
    "rating=s.split(',')[1].rstrip()[20:]\n",
    "print('rating: ',rating)"
   ]
  },
  {
   "cell_type": "code",
   "execution_count": 7,
   "metadata": {},
   "outputs": [
    {
     "name": "stdout",
     "output_type": "stream",
     "text": [
      "\"recipeCategory\": [\n",
      "    \"Italian\",\n",
      "    \"Soup\",\n",
      "    \"Beans and Legumes\"\n",
      "  \n"
     ]
    },
    {
     "data": {
      "text/plain": [
       "['Italian', 'Soup', 'Beans and Legumes']"
      ]
     },
     "execution_count": 7,
     "metadata": {},
     "output_type": "execute_result"
    }
   ],
   "source": [
    "start=soup.get_text().find('\"recipeCategory\": [')\n",
    "end=start+soup.get_text()[soup.get_text().find('\"recipeCategory\": ['):].find(']')\n",
    "s=soup.get_text()[start:end]\n",
    "print(s)\n",
    "category=[i for i in s[25:].split('\",\\n    \"')]\n",
    "category[-1]=category[-1][:-4]\n",
    "category"
   ]
  },
  {
   "cell_type": "code",
   "execution_count": 14,
   "metadata": {},
   "outputs": [
    {
     "name": "stdout",
     "output_type": "stream",
     "text": [
      "\"cookTime\": \"P0Y0M0DT0H4M0.000S\",\n",
      "  \"totalTime\": \"P0Y0M0DT10H10M0.000S\n",
      "cook time  4 minutes\n",
      "prep time  0 minutes\n",
      "total time  610 minutes\n"
     ]
    }
   ],
   "source": [
    "# extract time\n",
    "\n",
    "start=soup.get_text().find('\"cookTime\": ')\n",
    "end=start+soup.get_text()[soup.get_text().find('\"cookTime\": '):].find('\"totalTime\"')\n",
    "s=soup.get_text()[start:soup.get_text().find('S',end)+1]\n",
    "print(s)\n",
    "cookTime=s.split(',')[0].rstrip()[13:-1]\n",
    "if(s.find('prepTime')!=-1):\n",
    "    prepTime=s.split(',')[1].rstrip()[16:-1]\n",
    "    prepTime= int(prepTime[prepTime.find('T')+1:prepTime.find('H',prepTime.find('T'))])*60+int(prepTime[prepTime.find('H')+1:prepTime.find('M',prepTime.find('H'))])\n",
    "    totalTime=s.split(',')[2].rstrip()[16:-1]\n",
    "else:\n",
    "    totalTime=s.split(',')[1].rstrip()[16:-1]\n",
    "    prepTime=0\n",
    "\n",
    "cookTime= int(cookTime[cookTime.find('T')+1:cookTime.find('H',cookTime.find('T'))])*60+int(cookTime[cookTime.find('H')+1:cookTime.find('M',cookTime.find('H'))])\n",
    "totalTime=int(totalTime[totalTime.find('T')+1:totalTime.find('H',totalTime.find('T'))])*60+int(totalTime[totalTime.find('H')+1:totalTime.find('M',totalTime.find('H'))])\n",
    "\n",
    "print('cook time ', cookTime, 'minutes')\n",
    "print('prep time ',prepTime, 'minutes')\n",
    "print('total time ',totalTime, 'minutes')"
   ]
  },
  {
   "cell_type": "code",
   "execution_count": 16,
   "metadata": {},
   "outputs": [
    {
     "data": {
      "text/html": [
       "<div>\n",
       "<style scoped>\n",
       "    .dataframe tbody tr th:only-of-type {\n",
       "        vertical-align: middle;\n",
       "    }\n",
       "\n",
       "    .dataframe tbody tr th {\n",
       "        vertical-align: top;\n",
       "    }\n",
       "\n",
       "    .dataframe thead th {\n",
       "        text-align: right;\n",
       "    }\n",
       "</style>\n",
       "<table border=\"1\" class=\"dataframe\">\n",
       "  <thead>\n",
       "    <tr style=\"text-align: right;\">\n",
       "      <th></th>\n",
       "      <th>ingredients</th>\n",
       "      <th>categories</th>\n",
       "      <th>rating</th>\n",
       "      <th>review count</th>\n",
       "      <th>directions</th>\n",
       "      <th>cook time</th>\n",
       "      <th>prep time</th>\n",
       "    </tr>\n",
       "  </thead>\n",
       "  <tbody>\n",
       "    <tr>\n",
       "      <th>\"16 Bean\" Pasta e Fagioli Recipe</th>\n",
       "      <td>[1 (1-pound) bag 16 Bean Soup Mix, 2 tablespoo...</td>\n",
       "      <td>[Italian, Soup, Beans and Legumes]</td>\n",
       "      <td>5</td>\n",
       "      <td>3</td>\n",
       "      <td>[    \"The day before you plan to make the soup...</td>\n",
       "      <td>4</td>\n",
       "      <td>0</td>\n",
       "    </tr>\n",
       "  </tbody>\n",
       "</table>\n",
       "</div>"
      ],
      "text/plain": [
       "                                                                        ingredients  \\\n",
       "\"16 Bean\" Pasta e Fagioli Recipe  [1 (1-pound) bag 16 Bean Soup Mix, 2 tablespoo...   \n",
       "\n",
       "                                                          categories rating  \\\n",
       "\"16 Bean\" Pasta e Fagioli Recipe  [Italian, Soup, Beans and Legumes]      5   \n",
       "\n",
       "                                 review count  \\\n",
       "\"16 Bean\" Pasta e Fagioli Recipe            3   \n",
       "\n",
       "                                                                         directions  \\\n",
       "\"16 Bean\" Pasta e Fagioli Recipe  [    \"The day before you plan to make the soup...   \n",
       "\n",
       "                                 cook time prep time  \n",
       "\"16 Bean\" Pasta e Fagioli Recipe         4         0  "
      ]
     },
     "execution_count": 16,
     "metadata": {},
     "output_type": "execute_result"
    }
   ],
   "source": [
    "# create Series\n",
    "\n",
    "recipies=DataFrame()\n",
    "columns=[ingredient,category,rating,reviewCount,directions,cookTime,prepTime]\n",
    "labels=['ingredients','categories','rating','review count','directions','cook time','prep time']\n",
    "s=Series(columns,index=labels)\n",
    "recipies[title]=s\n",
    "r=recipies.transpose()\n",
    "r"
   ]
  },
  {
   "cell_type": "code",
   "execution_count": 17,
   "metadata": {},
   "outputs": [
    {
     "data": {
      "text/plain": [
       "['    \"The day before you plan to make the soup, place the bean mix in a large bowl, add cold water to cover by 2 inches, and refrigerate overnight. The next day, drain the beans, rinse under cold running water, and drain again. Place the beans in a large pot with 8 cups of cold water. Bring to a boil, lower the heat, and simmer for 1 hour. Stir occasionally and skim off any foam that rises to the top. The beans should be very tender and the skin will peel away when you blow on a bean.\",',\n",
       " '    \"Meanwhile, heat the oil in a medium (10-inch) stockpot or Dutch oven over medium heat. Add the pancetta and onion and saute over medium to medium-high heat for 12 to 18 minutes, until browned. Add the garlic and red pepper flakes and saute for one minute. Add the tomatoes, wine, 4 cups of the chicken stock, 1 tablespoon salt, and 1 teaspoon black pepper and turn off the heat.\",',\n",
       " '    \"Drain the beans and add two-thirds of them to the soup. Pass the remaining beans through a food mill, discarding the skins. Stir the bean puree and the pasta into the soup, bring to a boil, lower the heat, and simmer for 20 to 30 minutes, stirring occasionally, until the pasta is tender. Add up to 2 more cups chicken stock if the soup is too thick. Stir in the Parmesan and the vinegar. Ladle the soup into large shallow bowls and add a swirl of olive oil, a sprinkle of Parmesan, and some basil. Serve hot with extra Parmesan on the side.\"']"
      ]
     },
     "execution_count": 17,
     "metadata": {},
     "output_type": "execute_result"
    }
   ],
   "source": [
    "r.directions[0]"
   ]
  },
  {
   "cell_type": "code",
   "execution_count": null,
   "metadata": {},
   "outputs": [],
   "source": []
  }
 ],
 "metadata": {
  "kernelspec": {
   "display_name": "Python [default]",
   "language": "python",
   "name": "python3"
  },
  "language_info": {
   "codemirror_mode": {
    "name": "ipython",
    "version": 3
   },
   "file_extension": ".py",
   "mimetype": "text/x-python",
   "name": "python",
   "nbconvert_exporter": "python",
   "pygments_lexer": "ipython3",
   "version": "3.6.4"
  }
 },
 "nbformat": 4,
 "nbformat_minor": 2
}
